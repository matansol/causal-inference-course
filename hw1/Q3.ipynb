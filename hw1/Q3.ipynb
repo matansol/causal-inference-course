{
 "cells": [
  {
   "cell_type": "code",
   "execution_count": 4,
   "id": "8cc393e9",
   "metadata": {},
   "outputs": [
    {
     "name": "stdout",
     "output_type": "stream",
     "text": [
      "         Y(0)  Y(1)  Y(2)\n",
      "Ball        0     1     0\n",
      "Plumlee     0     2     0\n",
      "Lopez       0     1     0\n",
      "Curry       0     0     2\n"
     ]
    }
   ],
   "source": [
    "import pandas as pd\n",
    "\n",
    "# Load data\n",
    "df = pd.read_csv('Data.csv')\n",
    "\n",
    "# Define families (row indices for each family)\n",
    "families = {\n",
    "    'Ball':    [0, 1],\n",
    "    'Plumlee': [2, 3],\n",
    "    'Lopez':   [4, 5],\n",
    "    'Curry':   [6, 7]\n",
    "}\n",
    "\n",
    "# Compute cluster-level potential outcomes\n",
    "Y_f = {}\n",
    "for fam, inds in families.items():\n",
    "    i, j = inds\n",
    "    # w=0: no gifts in family\n",
    "    y0 = df.loc[i, 'Y00000000'] + df.loc[j, 'Y00000000']\n",
    "    # w=1: exactly one gift to the first child\n",
    "    t1 = ['0']*8\n",
    "    t1[i] = '1'\n",
    "    col1 = 'Y' + ''.join(t1)\n",
    "    y1 = df.loc[i, col1] + df.loc[j, col1]\n",
    "    # w=2: gifts to both children\n",
    "    t2 = ['0']*8\n",
    "    t2[i] = '1'\n",
    "    t2[j] = '1'\n",
    "    col2 = 'Y' + ''.join(t2)\n",
    "    y2 = df.loc[i, col2] + df.loc[j, col2]\n",
    "    \n",
    "    Y_f[fam] = (y0, y1, y2)\n",
    "\n",
    "\n",
    "# Display family-level potential outcomes in a table\n",
    "\n",
    "# Convert Y_f dictionary to a DataFrame for better visualization\n",
    "family_outcomes = pd.DataFrame.from_dict(Y_f, orient='index', columns=['Y(0)', 'Y(1)', 'Y(2)'])\n",
    "print(family_outcomes)"
   ]
  },
  {
   "cell_type": "code",
   "execution_count": null,
   "id": "fe45cda4",
   "metadata": {},
   "outputs": [],
   "source": [
    "\n",
    "\n",
    "# Compute average treatment effects\n",
    "n = len(families)\n",
    "ate_10 = sum(vals[1] - vals[0] for vals in Y_f.values()) / n\n",
    "ate_21 = sum(vals[2] - vals[1] for vals in Y_f.values()) / n\n",
    "ate_20 = sum(vals[2] - vals[0] for vals in Y_f.values()) / n\n",
    "\n",
    "print(\"\\nAverage Treatment Effects:\")\n",
    "print(\"  ATE(1 - 0) =\", ate_10)\n",
    "print(\"  ATE(2 - 1) =\", ate_21)\n",
    "print(\"  ATE(2 - 0) =\", ate_20)"
   ]
  }
 ],
 "metadata": {
  "kernelspec": {
   "display_name": "courses",
   "language": "python",
   "name": "python3"
  },
  "language_info": {
   "codemirror_mode": {
    "name": "ipython",
    "version": 3
   },
   "file_extension": ".py",
   "mimetype": "text/x-python",
   "name": "python",
   "nbconvert_exporter": "python",
   "pygments_lexer": "ipython3",
   "version": "3.13.1"
  }
 },
 "nbformat": 4,
 "nbformat_minor": 5
}
