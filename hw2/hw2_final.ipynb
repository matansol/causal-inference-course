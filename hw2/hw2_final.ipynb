{
  "cells": [
    {
      "cell_type": "markdown",
      "id": "a254ef42931763f6",
      "metadata": {
        "id": "a254ef42931763f6"
      },
      "source": [
        "Import libraries and set global parameters"
      ]
    },
    {
      "cell_type": "code",
      "execution_count": 4,
      "id": "JmlL4x93w4_H",
      "metadata": {
        "colab": {
          "base_uri": "https://localhost:8080/"
        },
        "id": "JmlL4x93w4_H",
        "outputId": "9005c4e3-52f7-4819-b3d6-6b351b5b3833"
      },
      "outputs": [
        {
          "name": "stdout",
          "output_type": "stream",
          "text": [
            "Requirement already satisfied: tableone in /usr/local/lib/python3.11/dist-packages (0.9.5)\n",
            "Requirement already satisfied: jinja2>=3.1.4 in /usr/local/lib/python3.11/dist-packages (from tableone) (3.1.6)\n",
            "Requirement already satisfied: numpy>=1.19.1 in /usr/local/lib/python3.11/dist-packages (from tableone) (2.0.2)\n",
            "Requirement already satisfied: openpyxl>=3.1.2 in /usr/local/lib/python3.11/dist-packages (from tableone) (3.1.5)\n",
            "Requirement already satisfied: pandas>=2.0.3 in /usr/local/lib/python3.11/dist-packages (from tableone) (2.2.2)\n",
            "Requirement already satisfied: scipy>=1.10.1 in /usr/local/lib/python3.11/dist-packages (from tableone) (1.15.3)\n",
            "Requirement already satisfied: statsmodels>=0.14.1 in /usr/local/lib/python3.11/dist-packages (from tableone) (0.14.4)\n",
            "Requirement already satisfied: tabulate>=0.9.0 in /usr/local/lib/python3.11/dist-packages (from tableone) (0.9.0)\n",
            "Requirement already satisfied: MarkupSafe>=2.0 in /usr/local/lib/python3.11/dist-packages (from jinja2>=3.1.4->tableone) (3.0.2)\n",
            "Requirement already satisfied: et-xmlfile in /usr/local/lib/python3.11/dist-packages (from openpyxl>=3.1.2->tableone) (2.0.0)\n",
            "Requirement already satisfied: python-dateutil>=2.8.2 in /usr/local/lib/python3.11/dist-packages (from pandas>=2.0.3->tableone) (2.9.0.post0)\n",
            "Requirement already satisfied: pytz>=2020.1 in /usr/local/lib/python3.11/dist-packages (from pandas>=2.0.3->tableone) (2025.2)\n",
            "Requirement already satisfied: tzdata>=2022.7 in /usr/local/lib/python3.11/dist-packages (from pandas>=2.0.3->tableone) (2025.2)\n",
            "Requirement already satisfied: patsy>=0.5.6 in /usr/local/lib/python3.11/dist-packages (from statsmodels>=0.14.1->tableone) (1.0.1)\n",
            "Requirement already satisfied: packaging>=21.3 in /usr/local/lib/python3.11/dist-packages (from statsmodels>=0.14.1->tableone) (24.2)\n",
            "Requirement already satisfied: six>=1.5 in /usr/local/lib/python3.11/dist-packages (from python-dateutil>=2.8.2->pandas>=2.0.3->tableone) (1.17.0)\n"
          ]
        }
      ],
      "source": [
        "%pip install tableone"
      ]
    },
    {
      "cell_type": "markdown",
      "id": "00dcb168",
      "metadata": {},
      "source": [
        "# HW2 - Solution\n",
        "\n",
        "### Submitted by:\n",
        "Matan Solomon - 209339894  \n",
        "Barbara Aleksandrov - 337844252"
      ]
    },
    {
      "cell_type": "code",
      "execution_count": 5,
      "id": "b0cbed63f2e732b8",
      "metadata": {
        "id": "b0cbed63f2e732b8"
      },
      "outputs": [],
      "source": [
        "import pandas as pd\n",
        "import matplotlib.pyplot as plt\n",
        "import seaborn as sns\n",
        "import numpy as np\n",
        "\n",
        "from sklearn.model_selection import train_test_split\n",
        "from sklearn.metrics import brier_score_loss, mean_squared_error\n",
        "from sklearn.calibration import calibration_curve\n",
        "from sklearn.utils import resample\n",
        "from sklearn.linear_model import LogisticRegression, LinearRegression\n",
        "from sklearn.ensemble import RandomForestClassifier, RandomForestRegressor\n",
        "from xgboost import XGBRegressor\n",
        "\n",
        "from tableone import TableOne\n",
        "\n",
        "random_seed = 42 # do not change"
      ]
    },
    {
      "cell_type": "markdown",
      "id": "cfdbe395f7621f25",
      "metadata": {
        "id": "cfdbe395f7621f25"
      },
      "source": [
        "Import data"
      ]
    },
    {
      "cell_type": "code",
      "execution_count": 6,
      "id": "c2771f7473c6f462",
      "metadata": {
        "id": "c2771f7473c6f462"
      },
      "outputs": [],
      "source": [
        "data = pd.read_csv('hw2_data.csv')\n",
        "# data.head()"
      ]
    },
    {
      "cell_type": "code",
      "execution_count": 7,
      "id": "832afd826e7cb7cb",
      "metadata": {
        "id": "832afd826e7cb7cb"
      },
      "outputs": [],
      "source": [
        "# Split the data into features (X), treatment (T) and target (y)\n",
        "confounders = [f'X{i}' for i in range(30)]\n",
        "X = data[confounders]\n",
        "T = data['T']\n",
        "y = data['Y']"
      ]
    },
    {
      "cell_type": "code",
      "execution_count": 8,
      "id": "698a95b855965f47",
      "metadata": {
        "id": "698a95b855965f47"
      },
      "outputs": [],
      "source": [
        "# Split the data into training and validation sets / Do not change\n",
        "X_train, X_val, T_train, T_val, y_train, y_val = train_test_split(X, T, y, test_size=0.3, random_state=random_seed)"
      ]
    },
    {
      "cell_type": "code",
      "execution_count": 9,
      "id": "af7a7112c74b05ba",
      "metadata": {
        "id": "af7a7112c74b05ba"
      },
      "outputs": [],
      "source": [
        "def train_propensity_model(model, X_train, T_train):\n",
        "    \"\"\"\n",
        "    Return a fitted propensity model on your training data\n",
        "    :param model:\n",
        "    :param X_train:\n",
        "    :param T_train:\n",
        "    :return:\n",
        "    \"\"\"\n",
        "    return model.fit(X_train, T_train)\n",
        "\n",
        "def eval_propensity_model(fitted_model, X_val, T_val, model_name, n_bins = 10):\n",
        "    \"\"\"\n",
        "    Check your fitted propensity model using the brier score and calibration curve.\n",
        "\n",
        "    You must print or return (and then print for us to see) the brier score.\n",
        "    You must show the calibration curve.\n",
        "    :param fitted_model:\n",
        "    :param X_val:\n",
        "    :param T_val:\n",
        "    :return:\n",
        "    \"\"\"\n",
        "    T_prob_val = fitted_model.predict_proba(X_val)[:,1] # Probabilities for the positive class\n",
        "    brier_score = brier_score_loss(T_val, T_prob_val)\n",
        "    print(f'Brier Score for model {model_name}: {brier_score}')\n",
        "\n",
        "    # Calibration curve\n",
        "    fraction_of_positives, mean_predicted_value = calibration_curve(T_val, T_prob_val, n_bins = n_bins)\n",
        "\n",
        "    # Plot the calibration curve\n",
        "    plt.figure(figsize=(8, 6))\n",
        "    plt.plot(mean_predicted_value, fraction_of_positives, marker='o', label = model_name)\n",
        "    plt.plot([0, 1], [0, 1], linestyle='--', label='Perfectly calibrated')\n",
        "    plt.xlabel('Mean predicted value')\n",
        "    plt.ylabel('Fraction of positives')\n",
        "    plt.title('Calibration Plot')\n",
        "    plt.legend()\n",
        "    plt.show()\n",
        "    return brier_score"
      ]
    },
    {
      "cell_type": "markdown",
      "id": "38f4f644520854a5",
      "metadata": {
        "id": "38f4f644520854a5"
      },
      "source": [
        "## Train and Evaluate at least two models"
      ]
    },
    {
      "cell_type": "code",
      "execution_count": 10,
      "id": "RYxyuHW20wjb",
      "metadata": {
        "colab": {
          "base_uri": "https://localhost:8080/",
          "height": 1000
        },
        "id": "RYxyuHW20wjb",
        "outputId": "9df65f6f-d822-46c1-8249-7c96554d8dbb"
      },
      "outputs": [
        {
          "name": "stdout",
          "output_type": "stream",
          "text": [
            "Brier Score for model Logistic Regression: 0.16364160455032925\n"
          ]
        },
        {
          "data": {
            "image/png": "[encoded data removed]",
            "text/plain": [
              "<Figure size 800x600 with 1 Axes>"
            ]
          },
          "metadata": {},
          "output_type": "display_data"
        },
        {
          "name": "stdout",
          "output_type": "stream",
          "text": [
            "Brier Score for model Random Forest Regression: 0.17893956834532376\n"
          ]
        },
        {
          "data": {
            "image/png": "[encoded data removed]",
            "text/plain": [
              "<Figure size 800x600 with 1 Axes>"
            ]
          },
          "metadata": {},
          "output_type": "display_data"
        }
      ],
      "source": [
        "log_model = LogisticRegression(max_iter=1000)\n",
        "fitted_log_model = train_propensity_model(log_model, X_train, T_train)\n",
        "log_brier = eval_propensity_model(fitted_log_model, X_val, T_val, \"Logistic Regression\")\n",
        "\n",
        "rf_model = RandomForestClassifier(n_estimators=100, random_state=42)\n",
        "fitted_rf_model = train_propensity_model(rf_model, X_train, T_train)\n",
        "rf_brier = eval_propensity_model(fitted_rf_model, X_val, T_val, \"Random Forest Regression\")"
      ]
    },
    {
      "cell_type": "markdown",
      "id": "1b384bf864445af1",
      "metadata": {
        "id": "1b384bf864445af1"
      },
      "source": [
        "Q1. Explain what the Brier score represents? What is the best possible Brier score? What is the Brier score if the model always guesses 0.5?\\\n",
        "Q2. Explain what the calibration plot shows? What is the best possible calibration plot?  \n",
        "Q3. The sklearn implementation of calibration_plot (see Tutorial) has a parameter \"n_bins\". Explain this parameter. What happens if you use too many bins (for example 100 on this dataset) or too little bins (for example 1)?\n",
        "#### Q4. Choose a propensity model and explain why you chose that model?\n"
      ]
    },
    {
      "cell_type": "markdown",
      "id": "D5t5o51ixDUn",
      "metadata": {
        "id": "D5t5o51ixDUn"
      },
      "source": [
        "**Q1. Brier Score**\n",
        "\n",
        "The formula for Brier Score (for binary):\n",
        "$$\n",
        "Brier Score = \\frac{1}{N} \\sum_{t=1}^{N} (f_t - \\sigma _t)^2\n",
        "$$\n",
        "\n",
        "Where:\n",
        "- $ f_t $: is the probability that was forecast (predicted probability).  \n",
        "- $ \\sigma _t$: the actual outcome of the event at instance t (0 if it does not happen and 1 if it does happen). The treatment assignment\n",
        "- $N$: number of samples\n",
        "\n",
        "Meaning: This score measures the mean squared error between the predicted probabilities and the actual treatment outcomes. Lower values indicate better performance.\n",
        "\n",
        "We aim to achieve minimum error in model's predicition, so from the definition we aim to achieve 0 Brier score (impossible since the model is usually slighlty hasitant about any prediction).\n",
        "\n",
        "\n",
        "*What is the Brier score if the model always guesses 0.5?*\n",
        "\n",
        "If the model always predicts $p_i = 0.5$ the outcome Brier Score is regardless of true treatment(0 ir 1):\n",
        "$$\n",
        "Brier Score = \\frac{1}{N} \\sum_{i=1}^{N} (0.5 - t_i)^2 =  \\frac{1}{N} \\sum_{i=1}^{N}0.25= 0.25\n",
        "$$\n",
        "\n",
        "In this case the model is always(when it's correct or not) errors 0.25 for each item.\n",
        "\n",
        "\n",
        "---\n",
        "\n"
      ]
    },
    {
      "cell_type": "markdown",
      "id": "lRNjQ-It3fFj",
      "metadata": {
        "id": "lRNjQ-It3fFj"
      },
      "source": [
        "**Q2. Callibration Plot**\n",
        "\n",
        "A calibration plot shows how well a model's predicted probabilities align with actual outcomes, it shows the agreement between predictions and observations in different percentiles (mostly deciles) of the predicted values.\n",
        "\n",
        "*   *x axis* - shows the predicted probability for positive value\n",
        "*   *y axis* - actual observed fraction of positives\n",
        "\n",
        "The goal is to have a model that has predictions as close to the linear line as possible (ideal line - every time we predict a probability it is the actual fraction we have in the data). If a model is well-calibrated, then when it predicts a probability of 0.7 for treatment, the actualpercent of treated is 70%.\n",
        "\n",
        "Otherwise if we above the line, it means that the model underestimated. Or if we are under the line it means that the model overestimated the proportion of treated.\n",
        "\n",
        "\n",
        "---\n",
        "\n"
      ]
    },
    {
      "cell_type": "markdown",
      "id": "4_lSTV03slUy",
      "metadata": {
        "id": "4_lSTV03slUy"
      },
      "source": [
        "**Q3. n_bins parameter**"
      ]
    },
    {
      "cell_type": "markdown",
      "id": "4ME0bYQwsr4R",
      "metadata": {
        "id": "4ME0bYQwsr4R"
      },
      "source": [
        "The n_bins parameter controls how the predicted probabilities are grouped when constructing the calibration plot. It determines the number of bins(percentiles) into which the predictions are divided before comparing predicted vs. observed outcomes."
      ]
    },
    {
      "cell_type": "code",
      "execution_count": 11,
      "id": "cjjrml2SsrPJ",
      "metadata": {
        "colab": {
          "base_uri": "https://localhost:8080/",
          "height": 599
        },
        "id": "cjjrml2SsrPJ",
        "outputId": "93e1cc32-fa1d-4487-d608-eeac71471762"
      },
      "outputs": [
        {
          "name": "stdout",
          "output_type": "stream",
          "text": [
            "Brier Score for model Logistic Regression: 0.16364160455032925\n"
          ]
        },
        {
          "data": {
            "image/png": "[encoded data removed]",
            "text/plain": [
              "<Figure size 800x600 with 1 Axes>"
            ]
          },
          "metadata": {},
          "output_type": "display_data"
        },
        {
          "data": {
            "text/plain": [
              "np.float64(0.16364160455032925)"
            ]
          },
          "execution_count": 11,
          "metadata": {},
          "output_type": "execute_result"
        }
      ],
      "source": [
        "eval_propensity_model(fitted_log_model, X_val, T_val, \"Logistic Regression\", n_bins = 100)"
      ]
    },
    {
      "cell_type": "markdown",
      "id": "6yeMJm-dtLBZ",
      "metadata": {
        "id": "6yeMJm-dtLBZ"
      },
      "source": [
        "If we have too many bins (100) it means that every percentile has its own bin. meaning that each bins has small number of samles or not at all. The outcome graph is highly unstable with high variance."
      ]
    },
    {
      "cell_type": "code",
      "execution_count": 12,
      "id": "15tuOXketLcA",
      "metadata": {
        "colab": {
          "base_uri": "https://localhost:8080/",
          "height": 599
        },
        "id": "15tuOXketLcA",
        "outputId": "e492cf81-7b94-44e6-dd71-4d862d143d0e"
      },
      "outputs": [
        {
          "name": "stdout",
          "output_type": "stream",
          "text": [
            "Brier Score for model Logistic Regression: 0.16364160455032925\n"
          ]
        },
        {
          "data": {
            "image/png": "[encoded data removed]",
            "text/plain": [
              "<Figure size 800x600 with 1 Axes>"
            ]
          },
          "metadata": {},
          "output_type": "display_data"
        },
        {
          "data": {
            "text/plain": [
              "np.float64(0.16364160455032925)"
            ]
          },
          "execution_count": 12,
          "metadata": {},
          "output_type": "execute_result"
        }
      ],
      "source": [
        "eval_propensity_model(fitted_log_model, X_val, T_val, \"Logistic Regression\", n_bins = 1)"
      ]
    },
    {
      "cell_type": "markdown",
      "id": "3cDibpXStWDX",
      "metadata": {
        "id": "3cDibpXStWDX"
      },
      "source": [
        "If we have too little bins (n_bins = 1) we will get an overall prediction, not in bins! This aggregates the prediction into one overall prediction (a single dot) of being treated. The plot looses its purpose\n",
        "\n",
        "\n",
        "---\n",
        "\n"
      ]
    },
    {
      "cell_type": "markdown",
      "id": "3ve6OYZf8eP4",
      "metadata": {
        "id": "3ve6OYZf8eP4"
      },
      "source": [
        "**Q4. Propensity model**\n",
        "Based on the results we chose the Logistic regression for this task.\n",
        "It's callinreation curve slightly more stable, it able to be a little bit more confident!\n",
        "Random Forest lacks confidence. It performs good at lower probabilities (when it's unsure it actually gives good predictions) but fails to be confident about it's prediction when it can be.\n",
        "\n",
        "We can see this at Brier Score as well. Logistic Regression is slightly better (correct and probably more confident) as it Brier Score is lower.\n"
      ]
    },
    {
      "cell_type": "markdown",
      "id": "86d8a0c334b9430d",
      "metadata": {
        "id": "86d8a0c334b9430d"
      },
      "source": [
        "#### Check if the \"overlap\" assumption is reasonable on this data, given the propensity model that you have selected:"
      ]
    },
    {
      "cell_type": "code",
      "execution_count": 13,
      "id": "8158b40ea441d778",
      "metadata": {
        "id": "8158b40ea441d778"
      },
      "outputs": [],
      "source": [
        "def check_overlap(propensity_model, X_train, T_train):\n",
        "    \"\"\"\n",
        "    Show histograms of the propensity on the T=0 and the T=1 group like in the tutorial\n",
        "    Use this to ascertain if there is a violation of overlap.\n",
        "\n",
        "    You must show the graph.\n",
        "    :param propensity_model:\n",
        "    :param X_train:\n",
        "    :param T_train:\n",
        "    :return:\n",
        "    \"\"\"\n",
        "    T_prob_train = propensity_model.predict_proba(X_train)[:,1]\n",
        "    # Separate the probabilities for treatment = 0 and treatment = 1\n",
        "    prob_treatment_0 = T_prob_train[T_train == 0]\n",
        "    prob_treatment_1 = T_prob_train[T_train == 1]\n",
        "\n",
        "    # Plot histograms\n",
        "    plt.figure(figsize=(10, 6))\n",
        "    plt.hist(prob_treatment_0, bins=20, alpha=0.6, label='Treatment = 0', color='blue')\n",
        "    plt.hist(prob_treatment_1, bins=20, alpha=0.6, label='Treatment = 1', color='red')\n",
        "\n",
        "    # Add labels and title\n",
        "    plt.xlabel('Predicted Probability')\n",
        "    plt.ylabel('Frequency')\n",
        "    plt.title('Histograms of Predicted Probabilities for Treatment = 0 and Treatment = 1')\n",
        "    plt.legend(loc='upper right')\n",
        "\n",
        "    # Show the plot\n",
        "    plt.show()"
      ]
    },
    {
      "cell_type": "code",
      "execution_count": 14,
      "id": "9d9e87922a9006e7",
      "metadata": {
        "colab": {
          "base_uri": "https://localhost:8080/",
          "height": 564
        },
        "id": "9d9e87922a9006e7",
        "outputId": "e1870114-c197-4324-da47-e12c335ce558"
      },
      "outputs": [
        {
          "data": {
            "image/png": "[encoded data removed]",
            "text/plain": [
              "<Figure size 1000x600 with 1 Axes>"
            ]
          },
          "metadata": {},
          "output_type": "display_data"
        }
      ],
      "source": [
        "check_overlap(fitted_log_model, X_train, T_train)"
      ]
    },
    {
      "cell_type": "markdown",
      "id": "a1f8980eea41c535",
      "metadata": {
        "id": "a1f8980eea41c535"
      },
      "source": [
        "#### Q5. Explain why there is or is not overlap in this sample?\n",
        "For this exercise do not trim the data, even if you deemed it necessary.\n",
        "\n",
        "There's a good overlap for overall items to get a treatment, except for some.\n",
        "\n",
        "There are few that have zero probability to get a treatment or some that have zero probability to be in the control group.  \n",
        "\n",
        "In addition, the control group is concentrated at lower propensity scores (around 0.1 - 0.3), whilst the treated group is more spread out and peaks around 0.2- 0.4, extending beyond 0.8.\n"
      ]
    },
    {
      "cell_type": "markdown",
      "id": "bf377cabb19d551",
      "metadata": {
        "id": "bf377cabb19d551"
      },
      "source": [
        "## S-Learners"
      ]
    },
    {
      "cell_type": "code",
      "execution_count": 15,
      "id": "9b7cd069d9345a2a",
      "metadata": {
        "id": "9b7cd069d9345a2a"
      },
      "outputs": [],
      "source": [
        "def train_s_learner(model, X_train, y_train):\n",
        "    \"\"\"\n",
        "    Return a fitted s-learner model on your training data\n",
        "    :param model:\n",
        "    :param X_train:\n",
        "    :param y_train:\n",
        "    :return:\n",
        "    \"\"\"\n",
        "    return model.fit(X_train, y_train)\n",
        "\n",
        "def s_learner_model_selection(models, metric, X_train, y_train, X_val, y_val):\n",
        "    \"\"\"\n",
        "    Use the validation set to select the model with the best performance over the provided metric (e.g. rmse)\n",
        "    Note that X_train and X_val must include the treatment column for the s-learner.\n",
        "\n",
        "    You may select models in a more complicated way (like you would in real life). But here you can simplify.\n",
        "    You must either return the fitted model or show the scores that lead to your decision.\n",
        "    :param model:\n",
        "    :param metric:\n",
        "    :param X_train:\n",
        "    :param y_train:\n",
        "    :param X_val:\n",
        "    :param y_val:\n",
        "    :return:\n",
        "    \"\"\"\n",
        "    best_score = float('inf')\n",
        "    best_model = None\n",
        "    best_model_name = None\n",
        "    for model_name, model in models.items():\n",
        "        fitted_model = model.fit(X_train, y_train)\n",
        "        preds = fitted_model.predict(X_val)\n",
        "        score = metric(y_val, preds)\n",
        "        print(f\"{model_name}: {metric.__name__}: {score:.4f}\")\n",
        "        if score < best_score:\n",
        "            best_score = score\n",
        "            best_model = fitted_model\n",
        "            best_model_name = model_name\n",
        "    return best_model, best_model_name\n"
      ]
    },
    {
      "cell_type": "code",
      "execution_count": 16,
      "id": "341922471ccd7c9f",
      "metadata": {
        "colab": {
          "base_uri": "https://localhost:8080/"
        },
        "id": "341922471ccd7c9f",
        "outputId": "7ce0e3dd-63c7-43ff-8009-555a494c4887"
      },
      "outputs": [
        {
          "name": "stdout",
          "output_type": "stream",
          "text": [
            "Linear Regression: mean_squared_error: 12.4834\n",
            "Random Forest: mean_squared_error: 23.2316\n",
            "XGBoost: mean_squared_error: 16.6706\n"
          ]
        }
      ],
      "source": [
        "models = []\n",
        "X_train_s = pd.concat([X_train, T_train], axis=1)\n",
        "X_val_s = pd.concat([X_val, T_val], axis=1)\n",
        "models = {\n",
        "    'Linear Regression': LinearRegression(),\n",
        "    'Random Forest': RandomForestRegressor(n_estimators=100, random_state=42),\n",
        "    'XGBoost': XGBRegressor(n_estimators=100, random_state=42, verbosity=0)\n",
        "}\n",
        "\n",
        "fitted_s_learner, fitted_s_learner_name = s_learner_model_selection(\n",
        "    models=models,\n",
        "    metric=mean_squared_error,\n",
        "    X_train=X_train_s,\n",
        "    y_train=y_train,\n",
        "    X_val=X_val_s,\n",
        "    y_val=y_val)"
      ]
    },
    {
      "cell_type": "code",
      "execution_count": 17,
      "id": "3bae0194e568bd42",
      "metadata": {
        "id": "3bae0194e568bd42"
      },
      "outputs": [],
      "source": [
        "def prepare_data_for_s_learner_inference(X):\n",
        "    \"\"\"\n",
        "    Receives X, data, and returns two sets of data. One with T=1 and the other with T=0.\n",
        "    For example, if the X = [x1, x_2] then this function returns X1 = [x1, x2, 1] and X0 = [x1, x2, 0]\n",
        "\n",
        "    You must return two datasets, one for T=1 and one for T=0.\n",
        "    :param X:\n",
        "    :return:\n",
        "    \"\"\"\n",
        "    X1 = X.copy()\n",
        "    X1['T'] = 1\n",
        "    X0 = X.copy()\n",
        "    X0['T'] = 0\n",
        "    return X1, X0\n",
        "\n",
        "def calculate_s_learner_ate(s_learner_model, X):\n",
        "    \"\"\"\n",
        "    Receives an s learner model and data\n",
        "\n",
        "    You must return or print the ate estimation on X based on the S-Learner.\n",
        "    :param s_learner:\n",
        "    :param X:\n",
        "    :return:\n",
        "    \"\"\"\n",
        "    X1, X0 = prepare_data_for_s_learner_inference(X)\n",
        "    pred1 = s_learner_model.predict(X1)\n",
        "    pred0 = s_learner_model.predict(X0)\n",
        "    ate = np.mean(pred1 - pred0)\n",
        "    return ate"
      ]
    },
    {
      "cell_type": "markdown",
      "id": "f5b9a0bf6912547c",
      "metadata": {
        "id": "f5b9a0bf6912547c"
      },
      "source": [
        "Provide the point-estimation of the ate on the validation set"
      ]
    },
    {
      "cell_type": "code",
      "execution_count": 18,
      "id": "6b2f7087d779c5be",
      "metadata": {
        "colab": {
          "base_uri": "https://localhost:8080/"
        },
        "id": "6b2f7087d779c5be",
        "outputId": "c62fc011-fb87-4af6-fda8-2455ea565956"
      },
      "outputs": [
        {
          "name": "stdout",
          "output_type": "stream",
          "text": [
            "The ATE of Linear Regression is 1.2974360113920544\n"
          ]
        }
      ],
      "source": [
        "print(f\"The ATE of {fitted_s_learner_name} is {calculate_s_learner_ate(fitted_s_learner, X_val)}\")"
      ]
    },
    {
      "cell_type": "markdown",
      "id": "c2f4f46498c36e9d",
      "metadata": {
        "id": "c2f4f46498c36e9d"
      },
      "source": [
        "Q6. Using a Lasso model, check the ATE over different regularization parameters (see below) \\\n",
        "What happens to the ATE with the S-Learner? Why?"
      ]
    },
    {
      "cell_type": "code",
      "execution_count": 19,
      "id": "ba1e4219c6072f51",
      "metadata": {
        "colab": {
          "base_uri": "https://localhost:8080/"
        },
        "id": "ba1e4219c6072f51",
        "outputId": "39a1192f-6bdf-4030-a73f-026f485fb86e"
      },
      "outputs": [
        {
          "name": "stdout",
          "output_type": "stream",
          "text": [
            "1.105078536591472\n",
            "0.9104535300703168\n",
            "0.5201469499316964\n",
            "0.12983904746814548\n",
            "0.0\n"
          ]
        }
      ],
      "source": [
        "from sklearn.linear_model import Lasso\n",
        "alphas = [0.05, 0.1,0.2,0.3,0.4]\n",
        "# models = {}\n",
        "for alpha in alphas:\n",
        "    # models[f\"Lasso_{alpha}\"] = Lasso(alpha=alpha)\n",
        "    print(calculate_s_learner_ate(train_s_learner(Lasso(alpha=alpha), pd.concat([X_train, T_train], axis=1), y_train), X_val))"
      ]
    },
    {
      "cell_type": "markdown",
      "id": "918bf195be13494d",
      "metadata": {
        "id": "918bf195be13494d"
      },
      "source": [
        "Add 95% confidence intervals around the point estimation. You have freedom to choose how to do this. For example, bootstraps, parametric methods (e.g. linear regression coefficient), etc."
      ]
    },
    {
      "cell_type": "code",
      "execution_count": 20,
      "id": "6470a44f1fee030b",
      "metadata": {
        "id": "6470a44f1fee030b"
      },
      "outputs": [],
      "source": [
        "def s_learner_confidence_intervals(s_learner_model, X_train, y_train, X_val, y_val, n_bootstraps = 10):\n",
        "    \"\"\"\n",
        "    Receives an s-learner model and returns 95% confidence intervals.\n",
        "    You do not need to use every parameter passed to this method and you can add additional parameters.\n",
        "\n",
        "    You must either print, visualize the confidence intervals or return them as a list.\n",
        "    :param s_learner_model:\n",
        "    :param X_train:\n",
        "    :param y_train:\n",
        "    :param X_val:\n",
        "    :param y_val:\n",
        "    :return:\n",
        "    \"\"\"\n",
        "    ates = []\n",
        "\n",
        "    for _ in range(n_bootstraps):\n",
        "        X_sample, y_sample = resample(X_train, y_train)\n",
        "        model = s_learner_model.fit(X_sample, y_sample)\n",
        "        ate = calculate_s_learner_ate(s_learner_model, X_val.drop(columns='T', errors='ignore'))\n",
        "        ates.append(ate)\n",
        "    lower = np.percentile(ates, 100 * alpha / 2)\n",
        "    upper = np.percentile(ates, 100 * (1 - alpha / 2))\n",
        "    return (lower, upper), np.array(ates)"
      ]
    },
    {
      "cell_type": "code",
      "execution_count": 21,
      "id": "qKSTtUWzjjrC",
      "metadata": {
        "id": "qKSTtUWzjjrC"
      },
      "outputs": [],
      "source": [
        "ate_res = {}"
      ]
    },
    {
      "cell_type": "code",
      "execution_count": 22,
      "id": "LPGR6MsVJho7",
      "metadata": {
        "colab": {
          "base_uri": "https://localhost:8080/"
        },
        "id": "LPGR6MsVJho7",
        "outputId": "defd6200-a085-49af-c2ca-67a2ff0a24ee"
      },
      "outputs": [
        {
          "name": "stdout",
          "output_type": "stream",
          "text": [
            "95% CI of Linear Regression is [1.2984198306861792,1.5153773726788187]\n"
          ]
        }
      ],
      "source": [
        "ci_lr, ates_lr = s_learner_confidence_intervals(fitted_s_learner, X_train_s, y_train, X_val_s, y_val)\n",
        "print(f\"95% CI of {fitted_s_learner_name} is [{ci_lr[0]},{ci_lr[1]}]\")\n",
        "ate_res[\"Linear Reg\"] = ates_lr"
      ]
    },
    {
      "cell_type": "code",
      "execution_count": 23,
      "id": "1Kc7DPhigyVs",
      "metadata": {
        "colab": {
          "base_uri": "https://localhost:8080/"
        },
        "id": "1Kc7DPhigyVs",
        "outputId": "2a020802-1d18-47d2-e725-636790dafdd6"
      },
      "outputs": [
        {
          "name": "stdout",
          "output_type": "stream",
          "text": [
            "95% CI of Lasso with alpha = 0.05 is [0.4819272033333766,1.570900885181576]\n",
            "95% CI of Lasso with alpha = 0.1 is [0.4710199960127848,1.217120909173342]\n",
            "95% CI of Lasso with alpha = 0.2 is [0.21924314942518575,0.9733787860822956]\n",
            "95% CI of Lasso with alpha = 0.3 is [0.0,0.44782448812660786]\n",
            "95% CI of Lasso with alpha = 0.4 is [0.0,0.0]\n"
          ]
        }
      ],
      "source": [
        "alphas = [0.05, 0.1,0.2,0.3,0.4]\n",
        "for alpha in alphas:\n",
        "    ci, ates = s_learner_confidence_intervals(Lasso(alpha=alpha), X_train_s, y_train, X_val_s, y_val)\n",
        "    print(f\"95% CI of Lasso with alpha = {alpha} is [{ci[0]},{ci[1]}]\")\n",
        "    ate_res[f\"Lasso {alpha}\"] = ates"
      ]
    },
    {
      "cell_type": "code",
      "execution_count": 24,
      "id": "H5UW29UCklaQ",
      "metadata": {
        "id": "H5UW29UCklaQ"
      },
      "outputs": [],
      "source": [
        "data = pd.DataFrame(ate_res).melt()\n",
        "data.columns = ['meta-algorithm', 'ATE']"
      ]
    },
    {
      "cell_type": "code",
      "execution_count": 25,
      "id": "4O8LUlLWj29l",
      "metadata": {
        "colab": {
          "base_uri": "https://localhost:8080/",
          "height": 472
        },
        "id": "4O8LUlLWj29l",
        "outputId": "e8e810cd-7297-487a-9a9c-722ef2e59e4d"
      },
      "outputs": [
        {
          "data": {
            "image/png": "[encoded data removed]",
            "text/plain": [
              "<Figure size 640x480 with 1 Axes>"
            ]
          },
          "metadata": {},
          "output_type": "display_data"
        }
      ],
      "source": [
        "sns.boxplot(x='meta-algorithm', y='ATE', data=data)\n",
        "plt.title('Boxplot - Compare Meta-Algorithms')\n",
        "plt.axhline(y=0, linestyle='--', color='black')\n",
        "plt.show()"
      ]
    },
    {
      "cell_type": "markdown",
      "id": "NlZSMbFXoa8o",
      "metadata": {
        "id": "NlZSMbFXoa8o"
      },
      "source": [
        "**Q6. Lasso model as s learner**\n",
        "Lasso model is linear regression that uses regularization (through parametr alpha).\n",
        "It uses technique that minimizes the sum of squared errors (SSE) subject to a penalty term that shrinks coefficients toward zero. This penalty term is the sum of the absolute values of the coefficients, controlled by a hyperparameter (λ). By shrinking coefficients, Lasso can automatically perform feature selection, eliminating irrelevant variables from the model.\n",
        "\n",
        "The goal is to minimize:\n",
        "\n",
        "$$J(w) =\\sum_{t=1}^{N} (y_i - \\hat{y_i})^2 + \\alpha \\sum_{j=1}^{m}|w_j|$$\n",
        "\n",
        "where:\n",
        "$w_j$ are the coefficients.\n",
        "\n",
        "Higher $\\alpha$ values penalize the coefficients more. The treatment indicator (T), treated as a feature in the S-learner, is shrunken and eventually becomes a zero, which leads to zero treatment effect meaning that ATE drops to zer (clearly seen from the plot).\n",
        "\n",
        "From the confidence intervals we can falsly assume that the model is more certain that treatment has no effect (for alpha = 0.3 and higher).\n",
        "\n"
      ]
    },
    {
      "cell_type": "markdown",
      "id": "f1a1ee7b30c6ef95",
      "metadata": {
        "id": "f1a1ee7b30c6ef95"
      },
      "source": [
        "-----------------"
      ]
    },
    {
      "cell_type": "markdown",
      "id": "4a0e4137b412b091",
      "metadata": {
        "id": "4a0e4137b412b091"
      },
      "source": [
        "## T-Learner"
      ]
    },
    {
      "cell_type": "markdown",
      "id": "f7a11d6e09d00abf",
      "metadata": {
        "id": "f7a11d6e09d00abf"
      },
      "source": [
        "Select models for the t-learner. \\\n",
        "You will need a model for both intervention arms (T=1, T=0). \\\n",
        "Depending on your results, you may find that different models are better for different intervention arms. (For example, a linear model on T=0 and a tree-based model on T=1).\n"
      ]
    },
    {
      "cell_type": "code",
      "execution_count": 26,
      "id": "7e046531a423ba95",
      "metadata": {
        "id": "7e046531a423ba95"
      },
      "outputs": [],
      "source": [
        "def train_t_learner(model, X_train, y_train):\n",
        "    \"\"\"\n",
        "    Return a fitted s-learner model on your training data\n",
        "    :param model:\n",
        "    :param X_train:\n",
        "    :param y_train:\n",
        "    :return:\n",
        "    \"\"\"\n",
        "    return model.fit(X_train, y_train)\n",
        "\n",
        "def t_learner_model_selection(models, metric, X_train, y_train, X_val, y_val):\n",
        "    \"\"\"\n",
        "    Use the validation set to select the model with the best performance over the provided metric (e.g. rmse)\n",
        "    Note that X_train and y_train should only include the appropriate intervention arm's data.\n",
        "\n",
        "    You may select models in a more complicated way (like you would in real life). But here you can simplify.\n",
        "    You must either return the fitted model or show the scores that lead to your decision.\n",
        "    :param models:\n",
        "    :param metric:\n",
        "    :param X_train:\n",
        "    :param y_train:\n",
        "    :param X_val:\n",
        "    :param y_val:\n",
        "    :return:\n",
        "    \"\"\"\n",
        "    best_score = float('inf')\n",
        "    best_model = None\n",
        "    for model_name, model in models.items():\n",
        "        fitted_model = train_t_learner(model, X_train, y_train)\n",
        "        preds = fitted_model.predict(X_val)\n",
        "        score = metric(y_val, preds)\n",
        "        print(f\"{model_name}: {score:.4f}\")\n",
        "        if score < best_score:\n",
        "            best_score = score\n",
        "            best_model = fitted_model\n",
        "    return best_model"
      ]
    },
    {
      "cell_type": "code",
      "execution_count": 27,
      "id": "8e8d980331d5787f",
      "metadata": {
        "colab": {
          "base_uri": "https://localhost:8080/"
        },
        "id": "8e8d980331d5787f",
        "outputId": "052f13f4-8767-435f-ca60-3485f2c1edae"
      },
      "outputs": [
        {
          "name": "stdout",
          "output_type": "stream",
          "text": [
            "Linear Regression: 0.0001\n",
            "Random Forest: 49.7399\n",
            "XGBoost: 44.2323\n",
            "Linear Regression: 0.0001\n",
            "Random Forest: 9.7242\n",
            "XGBoost: 5.7651\n",
            "best model for t=1: LinearRegression()\n",
            "best model for t=0: LinearRegression()\n"
          ]
        }
      ],
      "source": [
        "X_train_t1 = X_train.loc[T_train == 1]\n",
        "X_train_t0 = X_train.loc[T_train == 0]\n",
        "X_val_t1 = X_val.loc[T_val == 1]\n",
        "X_val_t0 = X_val.loc[T_val == 0]\n",
        "y_train_t1 = y_train.loc[T_train == 1]\n",
        "y_train_t0 = y_train.loc[T_train == 0]\n",
        "y_val_t1 = y_val.loc[T_val == 1]\n",
        "y_val_t0 = y_val.loc[T_val == 0]\n",
        "\n",
        "\n",
        "\n",
        "models_t0 = {\n",
        "    'Linear Regression': LinearRegression(),\n",
        "    'Random Forest': RandomForestRegressor(n_estimators=100, random_state=42),\n",
        "    'XGBoost': XGBRegressor(n_estimators=100, random_state=42, verbosity=0)\n",
        "}\n",
        "models_t1 = {\n",
        "    'Linear Regression': LinearRegression(),\n",
        "    'Random Forest': RandomForestRegressor(n_estimators=100, random_state=42),\n",
        "    'XGBoost': XGBRegressor(n_estimators=100, random_state=42, verbosity=0)\n",
        "}\n",
        "\n",
        "from sklearn.metrics import mean_squared_error\n",
        "import numpy as np\n",
        "\n",
        "fitted_t_learner_1 = t_learner_model_selection(models_t0, mean_squared_error, X_train_t1, y_train_t1, X_val_t1, y_val_t1)\n",
        "fitted_t_learner_0 = t_learner_model_selection(models_t1, mean_squared_error, X_train_t0, y_train_t0, X_val_t0, y_val_t0)\n",
        "print(f\"best model for t=1: {fitted_t_learner_1}\")\n",
        "print(f\"best model for t=0: {fitted_t_learner_0}\")\n",
        "\n"
      ]
    },
    {
      "cell_type": "code",
      "execution_count": 28,
      "id": "SwAEI9GQN9Ix",
      "metadata": {
        "colab": {
          "base_uri": "https://localhost:8080/"
        },
        "id": "SwAEI9GQN9Ix",
        "outputId": "2c5ee7ad-7402-458d-b74d-cb3f6819fc35"
      },
      "outputs": [
        {
          "name": "stdout",
          "output_type": "stream",
          "text": [
            "R2 for t0_model (T=0): 1.0000\n",
            "R2 for t1_model (T=1): 1.0000\n"
          ]
        }
      ],
      "source": [
        "from sklearn.metrics import r2_score\n",
        "\n",
        "# Evaluate the fitted T-learner models using another metric - R2 score\n",
        "y0_pred = fitted_t_learner_0.predict(X_val_t0)\n",
        "y1_pred = fitted_t_learner_1.predict(X_val_t1)\n",
        "r2_t0 = r2_score(y_val_t0, y0_pred)\n",
        "print(f\"R2 for t0_model (T=0): {r2_t0:.4f}\")\n",
        "\n",
        "r2_t1 = r2_score(y_val_t1, y1_pred)\n",
        "print(f\"R2 for t1_model (T=1): {r2_t1:.4f}\")"
      ]
    },
    {
      "cell_type": "code",
      "execution_count": 29,
      "id": "c1c19ba28b0f05e7",
      "metadata": {
        "id": "c1c19ba28b0f05e7"
      },
      "outputs": [],
      "source": [
        "def calculate_t_learner_ate(t_learner_model1, t_learner_model0, X):\n",
        "    \"\"\"\n",
        "    Receive t-learners and data, return the ATE inferred over X\n",
        "\n",
        "    You must return or print the ate estimation on X based on the T-Learner.\n",
        "    :param t_learner_model:\n",
        "    :param X1:\n",
        "    :param X0:\n",
        "    :return:\n",
        "    \"\"\"\n",
        "    y1_pred = t_learner_model1.predict(X)\n",
        "    y0_pred = t_learner_model0.predict(X)\n",
        "    ate = np.mean(y1_pred - y0_pred)\n",
        "    return ate\n"
      ]
    },
    {
      "cell_type": "markdown",
      "id": "53168fa86c423708",
      "metadata": {
        "id": "53168fa86c423708"
      },
      "source": [
        "Provide the point-estimation of the ate on the entire validation set"
      ]
    },
    {
      "cell_type": "code",
      "execution_count": 30,
      "id": "f9adb7c5c8dd597a",
      "metadata": {
        "colab": {
          "base_uri": "https://localhost:8080/"
        },
        "id": "f9adb7c5c8dd597a",
        "outputId": "75af8f04-047f-46a8-af2c-ec881e2c698a"
      },
      "outputs": [
        {
          "data": {
            "text/plain": [
              "np.float64(1.957324915830742)"
            ]
          },
          "execution_count": 30,
          "metadata": {},
          "output_type": "execute_result"
        }
      ],
      "source": [
        "calculate_t_learner_ate(fitted_t_learner_1, fitted_t_learner_0, X_val)"
      ]
    },
    {
      "cell_type": "markdown",
      "id": "79b625ff0572e642",
      "metadata": {
        "id": "79b625ff0572e642"
      },
      "source": [
        "Q7. Using a Lasso model, check the ATE over different regularization parameters, alpha=1,2,3,4,5. \\\n",
        "Is this similar or different to what we saw earlier with the S-Learner as we increased regularization? If it was different, explain what causes this."
      ]
    },
    {
      "cell_type": "code",
      "execution_count": 31,
      "id": "5c7b4f9c6cce145c",
      "metadata": {
        "colab": {
          "base_uri": "https://localhost:8080/"
        },
        "id": "5c7b4f9c6cce145c",
        "outputId": "25b20dbd-4c4e-4e0e-c821-de68004825f8"
      },
      "outputs": [
        {
          "name": "stdout",
          "output_type": "stream",
          "text": [
            "2.1020963670060997\n",
            "2.2421001004924213\n",
            "2.5172664173760637\n",
            "2.7868913236158277\n",
            "3.040546702606537\n"
          ]
        }
      ],
      "source": [
        "from sklearn.linear_model import Lasso\n",
        "alphas = [0.05, 0.1, 0.2, 0.3, 0.4]\n",
        "for alpha in alphas:\n",
        "    t1_model = train_t_learner(Lasso(alpha=alpha), X_train.loc[T_train==1], y_train.loc[T_train==1])\n",
        "    t0_model = train_t_learner(Lasso(alpha=alpha), X_train.loc[T_train==0], y_train.loc[T_train==0])\n",
        "    print(calculate_t_learner_ate(t1_model, t0_model, X_val))"
      ]
    },
    {
      "cell_type": "markdown",
      "id": "e4Hs2dsdOTNf",
      "metadata": {
        "id": "e4Hs2dsdOTNf"
      },
      "source": [
        "## Answer 7:\n",
        "With the T-learner, increasing the Lasso regularization parameter (alpha) actually increases the ATE, which is the opposite of what we saw with the S-learner, where higher alpha reduced the ATE.\n",
        "\n",
        "This happens because in the T-learner, we fit separate models for the treated and control groups. As alpha increases, each model is regularized independently, which can make their predictions move further apart and increase the estimated ATE.\n",
        "\n",
        "In contrast, the S-learner fits one model for both groups, so higher regularization shrinks the treatment effect toward zero, reducing the ATE. The main difference is that the T-learner's independent regularization can exaggerate differences, while the S-learner's shared regularization shrinks them."
      ]
    },
    {
      "cell_type": "markdown",
      "id": "6279e9f401c0bf13",
      "metadata": {
        "id": "6279e9f401c0bf13"
      },
      "source": [
        "#### Add 95% confidence intervals around the point estimation. You have freedom to choose how to do this. For example, bootstraps, parametric methods (e.g. linear regression coefficient), etc."
      ]
    },
    {
      "cell_type": "code",
      "execution_count": 32,
      "id": "3b9d64c0c732e62d",
      "metadata": {
        "id": "3b9d64c0c732e62d"
      },
      "outputs": [],
      "source": [
        "def t_learner_confidence_intervals(t_learner_model1, t_learner_model0, X_train1, y_train1, X_train0, y_train0, X_val, n_bootstraps = 100):\n",
        "    \"\"\"\n",
        "    Receives a t-learner model for each intervention arm and returns 95% confidence intervals.\n",
        "    You do not need to use every parameter passed to this method and you can add additional parameters.\n",
        "\n",
        "    You must either print, visualize the confidence intervals or return them as a list.\n",
        "    :param t_learner_model1:\n",
        "    :param t_learner_model0:\n",
        "    :param X_train:\n",
        "    :param y_train:\n",
        "    :param X_val:\n",
        "    :param y_val:\n",
        "    :return:\n",
        "    \"\"\"\n",
        "    alpha = 0.05\n",
        "    ates = []\n",
        "    for _ in range(n_bootstraps):\n",
        "        X_sample1, y_sample1= resample(X_train1, y_train1)\n",
        "        X_sample0, y_sample0 = resample(X_train0, y_train0)\n",
        "        t_learner_model1 = t_learner_model1.fit(X_sample1, y_sample1)\n",
        "        t_learner_model0 = t_learner_model0.fit(X_sample0, y_sample0)\n",
        "        ate = calculate_t_learner_ate(t_learner_model1, t_learner_model0, X_val)\n",
        "        ates.append(ate)\n",
        "    lower = np.percentile(ates, 100 * alpha / 2)\n",
        "    upper = np.percentile(ates, 100 * (1 - alpha / 2))\n",
        "    return (lower, upper)\n"
      ]
    },
    {
      "cell_type": "code",
      "execution_count": 33,
      "id": "8aa5e447d85251d9",
      "metadata": {
        "colab": {
          "base_uri": "https://localhost:8080/"
        },
        "id": "8aa5e447d85251d9",
        "outputId": "9a7ed21a-3172-4962-b527-d1451f600275"
      },
      "outputs": [
        {
          "name": "stdout",
          "output_type": "stream",
          "text": [
            "(np.float64(1.956309158741929), np.float64(1.9584170933534877))\n"
          ]
        }
      ],
      "source": [
        "t_ci = t_learner_confidence_intervals(fitted_t_learner_1, fitted_t_learner_0, X_train_t1, y_train_t1, X_train_t0, y_train_t0, X_val)\n",
        "print(t_ci) # if you did not show above"
      ]
    },
    {
      "cell_type": "markdown",
      "id": "c0c6959f1eaac9ea",
      "metadata": {
        "id": "c0c6959f1eaac9ea"
      },
      "source": [
        "## IPW"
      ]
    },
    {
      "cell_type": "markdown",
      "id": "8f144c7a362ccd83",
      "metadata": {
        "id": "8f144c7a362ccd83"
      },
      "source": [
        "You have already trained and selected a propensity model earlier, use that model to estimate the ATE using IPW on the validation set."
      ]
    },
    {
      "cell_type": "code",
      "execution_count": null,
      "id": "f694e968e854491b",
      "metadata": {
        "id": "f694e968e854491b"
      },
      "outputs": [],
      "source": [
        "from copy import deepcopy\n",
        "def calculate_ipw_ate(model, X, T, y):\n",
        "    \"\"\"\n",
        "    Receive propensity model and X, returns ATE inferred on X\n",
        "\n",
        "    You must return or print the ate estimation on X based on IPW.\n",
        "    :param model:\n",
        "    :param X:\n",
        "    :return:\n",
        "    \"\"\"\n",
        "\n",
        "    # get propensity on test\n",
        "    temp_test_data = deepcopy(X)\n",
        "    temp_test_data['propensity'] = model.predict_proba(temp_test_data)[:,1]\n",
        "    temp_test_data['T'] = T\n",
        "    temp_test_data['y'] = y\n",
        "    y1_weighted_estimate = np.sum(((temp_test_data['T'] == 1).astype(int) * temp_test_data['y']) / temp_test_data['propensity']) / np.sum(temp_test_data['T'] == 1)\n",
        "    y0_weighted_estimate = np.sum(((temp_test_data['T'] == 0).astype(int) * temp_test_data['y']) / (1 - temp_test_data['propensity'])) / np.sum(temp_test_data['T'] == 0)\n",
        "    ipw_ate = np.mean(y1_weighted_estimate - y0_weighted_estimate)\n",
        "    return ipw_ate"
      ]
    },
    {
      "cell_type": "code",
      "execution_count": 35,
      "id": "6d91570aecbcea4a",
      "metadata": {
        "colab": {
          "base_uri": "https://localhost:8080/"
        },
        "id": "6d91570aecbcea4a",
        "outputId": "fe493e8b-8186-4b48-935e-14b8203c6aa4"
      },
      "outputs": [
        {
          "data": {
            "text/plain": [
              "np.float64(2.5888136836032087)"
            ]
          },
          "execution_count": 35,
          "metadata": {},
          "output_type": "execute_result"
        }
      ],
      "source": [
        "calculate_ipw_ate(fitted_log_model, X_val, T_val, y_val)"
      ]
    },
    {
      "cell_type": "code",
      "execution_count": 36,
      "id": "d880143e4574787b",
      "metadata": {
        "id": "d880143e4574787b"
      },
      "outputs": [],
      "source": [
        "def ipw_confidence_intervals(model, X_train, T_train, y_train, X_val, T_val, y_val):\n",
        "    \"\"\"\n",
        "    Receives a (fitted) propensity model for each intervention arm and returns 95% confidence intervals.\n",
        "    You do not need to use every parameter passed to this method and you can add additional parameters.\n",
        "\n",
        "    You must either print, visualize the confidence intervals or return them as a list.\n",
        "    :param model:\n",
        "    :param X_train:\n",
        "    :param T_train:\n",
        "    :param y_train:\n",
        "    :param X_val:\n",
        "    :param T_val:\n",
        "    :param y_val:\n",
        "    :return:\n",
        "    \"\"\"\n",
        "    bootstrap_sample_size = 100\n",
        "    alpha = 0.05\n",
        "    np.random.seed(42)\n",
        "    ipw_ate_estimates = []\n",
        "    # Bootstrap sampling and model fitting\n",
        "    for i in range(bootstrap_sample_size):\n",
        "        # Generate bootstrap indices\n",
        "        X_train_sample, T_train_sample, y_train_sample = resample(X_train, T_train, y_train)\n",
        "        X_val_sample, T_val_sample, y_val_sample = resample(X_val, T_val, y_val)\n",
        "        model = model.fit(X_train_sample, T_train_sample)\n",
        "\n",
        "        ipw_ate = calculate_ipw_ate(model, X_val_sample, T_val_sample, y_val_sample)\n",
        "        ipw_ate_estimates.append(ipw_ate)\n",
        "\n",
        "    # Convert the list of estimates into a numpy array\n",
        "    ipw_bootstrap_estimates = np.array(ipw_ate_estimates)\n",
        "\n",
        "    # Calculate the lower and upper percentiles to get the CI\n",
        "    ipw_ci = np.percentile(ipw_bootstrap_estimates, [100 * alpha / 2, 100 * (1 - alpha / 2)], axis=0)\n",
        "\n",
        "    # Print the confidence interval (for example, for the first prediction)\n",
        "    print(f\"95% Confidence Interval: Lower = {ipw_ci[0]}, Upper = {ipw_ci[1]}\")\n",
        "    return ipw_ci"
      ]
    },
    {
      "cell_type": "code",
      "execution_count": 37,
      "id": "c601cd0842d23b78",
      "metadata": {
        "colab": {
          "base_uri": "https://localhost:8080/"
        },
        "id": "c601cd0842d23b78",
        "outputId": "4e65f81c-acc6-4cad-b428-ebf31bfc68e8"
      },
      "outputs": [
        {
          "name": "stdout",
          "output_type": "stream",
          "text": [
            "95% Confidence Interval: Lower = -13.564030049405146, Upper = 9.363181889909011\n",
            "[-13.56403005   9.36318189]\n"
          ]
        }
      ],
      "source": [
        "ipw_ci = ipw_confidence_intervals(fitted_log_model, X_train, T_train, y_train, X_val, T_val, y_val)\n",
        "print(ipw_ci) # if you did not show above"
      ]
    },
    {
      "cell_type": "markdown",
      "id": "ffd0676702ec14e4",
      "metadata": {
        "id": "ffd0676702ec14e4"
      },
      "source": [
        "## Matching"
      ]
    },
    {
      "cell_type": "markdown",
      "id": "5a04c1683020aad4",
      "metadata": {
        "id": "5a04c1683020aad4"
      },
      "source": [
        "Q8. Show the Balancing Table on features X16, X17, X18, X19, X20 on the training data. Is the data balanced in these features? Explain. \\\n",
        "Use the convention of SMD below 0.1 to judge."
      ]
    },
    {
      "cell_type": "code",
      "execution_count": 38,
      "id": "71c9c88adfa58a8e",
      "metadata": {
        "colab": {
          "base_uri": "https://localhost:8080/"
        },
        "id": "71c9c88adfa58a8e",
        "outputId": "ef1ef107-78e6-49d6-d396-728f053a28a3"
      },
      "outputs": [
        {
          "name": "stdout",
          "output_type": "stream",
          "text": [
            "╒════════════════╤════╤═══════════╤════════════╤════════════╤════════════╤═════════════╕\n",
            "│                │    │ Missing   │ Overall    │ 0          │ 1          │ SMD (0,1)   │\n",
            "╞════════════════╪════╪═══════════╪════════════╪════════════╪════════════╪═════════════╡\n",
            "│ n              │    │           │ 2269       │ 1761       │ 508        │             │\n",
            "├────────────────┼────┼───────────┼────────────┼────────────┼────────────┼─────────────┤\n",
            "│ X16, mean (SD) │    │ 0         │ -0.3 (1.0) │ -0.3 (1.0) │ -0.2 (1.0) │ 0.046       │\n",
            "├────────────────┼────┼───────────┼────────────┼────────────┼────────────┼─────────────┤\n",
            "│ X17, mean (SD) │    │ 0         │ 0.8 (1.0)  │ 0.8 (1.0)  │ 1.0 (1.0)  │ 0.166       │\n",
            "├────────────────┼────┼───────────┼────────────┼────────────┼────────────┼─────────────┤\n",
            "│ X18, mean (SD) │    │ 0         │ 0.4 (1.0)  │ 0.4 (1.0)  │ 0.5 (0.9)  │ 0.105       │\n",
            "├────────────────┼────┼───────────┼────────────┼────────────┼────────────┼─────────────┤\n",
            "│ X19, mean (SD) │    │ 0         │ 0.2 (1.0)  │ 0.1 (1.0)  │ 0.4 (1.0)  │ 0.264       │\n",
            "├────────────────┼────┼───────────┼────────────┼────────────┼────────────┼─────────────┤\n",
            "│ X20, mean (SD) │    │ 0         │ -0.7 (1.0) │ -0.7 (1.0) │ -0.6 (1.0) │ 0.179       │\n",
            "╘════════════════╧════╧═══════════╧════════════╧════════════╧════════════╧═════════════╛\n"
          ]
        }
      ],
      "source": [
        "table1 = TableOne(pd.concat([X_train, T_train], axis=1), columns=['X16', 'X17', 'X18', 'X19', 'X20'], groupby='T', nonnormal=[],\n",
        "                  pval=False, smd=True)\n",
        "print(table1.tabulate(tablefmt=\"fancy_grid\"))"
      ]
    },
    {
      "cell_type": "markdown",
      "id": "Pku1hZZuOmPm",
      "metadata": {
        "id": "Pku1hZZuOmPm"
      },
      "source": [
        "## Answer 8:\n",
        "X16 is balance (SMD <0.1), while the others are not balance (SMD > 0.1). We can see that X19 is the most inbalance of them all with SMD = 0.264."
      ]
    },
    {
      "cell_type": "markdown",
      "id": "41f02d8406d448af",
      "metadata": {
        "id": "41f02d8406d448af"
      },
      "source": [
        "Implement a matching algorithm. There is no perfect way to do matching and you method does not need to be \"perfect\". \\\n",
        "You can choose specific features or perform dimension reduction or do something naive like in the tutorial.\\\n",
        "We discussed different challenges in the tutorial."
      ]
    },
    {
      "cell_type": "markdown",
      "id": "6d037faac73c751d",
      "metadata": {
        "id": "6d037faac73c751d"
      },
      "source": [
        "#### Q9. Explain your matching algorithm. Are there advantages and/or disadvantages to your matching algorithm?"
      ]
    },
    {
      "cell_type": "markdown",
      "id": "149ff88edfdb1e56",
      "metadata": {
        "id": "149ff88edfdb1e56"
      },
      "source": [
        "You will be evaluated on your explanation of the advantages and/or disadvatages of your matching algorithm. Not the algorithm itself. (Unless it is incorrect. For example, if it does not match or if it matches arbitrarily.)"
      ]
    },
    {
      "cell_type": "markdown",
      "id": "UAesb2GLOv3a",
      "metadata": {
        "id": "UAesb2GLOv3a"
      },
      "source": [
        "## Answer 9:\n",
        "Our matching algorithm uses nearest neighbor matching on selected features, matching each treated unit to the closest control unit (without replacement), meaning each control unit is matched to no more than one treatment unit.  \n",
        "Our algorithm takes as input the features to calculate the distance, making it flexible and easy to change. If no features are selected, it will use all available features.  \n",
        "We chose to find the top 5 most significant features according to the LR model (which we saw earlier is the most accurate one).\n",
        "\n",
        "**Advantages:**  \n",
        "- The matching algorithm balances key features between groups, and we can control which features are important to us.  \n",
        "- We created a simple algorithm that is fast to compute and easy to adjust.\n",
        "- Each control unit can be matched to only one treatment unit, so we do not have a situation where some units have more influence.\n",
        "- Using the 5 most significant features helps us focus the matching on the variables that matter most for predicting the outcome.\n",
        "\n",
        "**Disadvantages:**  \n",
        "- The algorithm may not find the best overall matches. The results can change depending on the order of matching, and each control unit can only be matched to one treatment unit.  \n",
        "- Using only the nearest neighbor for matching is not very robust and can be sensitive to outliers.\n",
        "- The matching algorithm reduces the sample size, so we might lose some information from the data.\n"
      ]
    },
    {
      "cell_type": "code",
      "execution_count": 39,
      "id": "e46ce922ac1b5250",
      "metadata": {
        "id": "e46ce922ac1b5250"
      },
      "outputs": [],
      "source": [
        "from sklearn.neighbors import NearestNeighbors\n",
        "from sklearn.metrics.pairwise import euclidean_distances\n",
        "from sklearn.preprocessing import StandardScaler\n",
        "def matching(X, T, y, top_features=None):\n",
        "    \"\"\"\n",
        "    Simplified matching algorithm that takes the first closest match\n",
        "    Returns matched datasets (X,T,y)\n",
        "    \"\"\"\n",
        "\n",
        "    if top_features is None:\n",
        "        top_features = X.columns.tolist()\n",
        "\n",
        "    # Standardize features\n",
        "    X_scaled = pd.DataFrame(\n",
        "        StandardScaler().fit_transform(X),\n",
        "        columns=X.columns,\n",
        "        index=X.index\n",
        "    )\n",
        "\n",
        "    # Split into treatment and control\n",
        "    treat_idx = T[T == 1].index\n",
        "    control_idx = T[T == 0].index\n",
        "\n",
        "    X_treat = X_scaled.loc[treat_idx]\n",
        "    X_control = X_scaled.loc[control_idx]\n",
        "\n",
        "    # Calculate distances between treated and control units\n",
        "    distances = euclidean_distances(X_treat[top_features], X_control[top_features])\n",
        "\n",
        "    # For each treated unit, find closest control unit\n",
        "    matched_pairs = []\n",
        "    used_control_indices = set()\n",
        "\n",
        "    for treated_idx in range(len(X_treat)):\n",
        "        # Find index of closest control unit that hasn't been used\n",
        "        available_controls = [i for i in range(len(X_control)) if i not in used_control_indices]\n",
        "        if available_controls:\n",
        "            # Take first available closest control unit\n",
        "            closest_control = available_controls[np.argmin(distances[treated_idx][available_controls])]\n",
        "            matched_pairs.append((treat_idx[treated_idx], control_idx[closest_control]))\n",
        "            used_control_indices.add(closest_control)\n",
        "\n",
        "    # Create matched dataset\n",
        "    matched_indices = [pair[0] for pair in matched_pairs] + [pair[1] for pair in matched_pairs]\n",
        "\n",
        "    return (\n",
        "        X.loc[matched_indices],\n",
        "        T.loc[matched_indices],\n",
        "        y.loc[matched_indices]\n",
        "    )"
      ]
    },
    {
      "cell_type": "code",
      "execution_count": 40,
      "id": "c-FFZjzpO0zt",
      "metadata": {
        "id": "c-FFZjzpO0zt"
      },
      "outputs": [],
      "source": [
        "#  Find most important features using LR\n",
        "def find_top_features(X, y, top_n=5):\n",
        "    \"\"\"\n",
        "    Find the top N features by absolute coefficient value from a Linear Regression model.\n",
        "    \"\"\"\n",
        "    lr = LinearRegression()\n",
        "    lr.fit(X, y)\n",
        "    coef_df = pd.DataFrame({\n",
        "        'feature': X.columns,\n",
        "        'coef': lr.coef_\n",
        "    })\n",
        "    coef_df['abs_coef'] = coef_df['coef'].abs()\n",
        "    top_features = coef_df.sort_values('abs_coef', ascending=False)['feature'].head(top_n).tolist()\n",
        "    print(f\"Top {top_n} features by LR: {top_features}\")\n",
        "    return top_features"
      ]
    },
    {
      "cell_type": "code",
      "execution_count": 41,
      "id": "97959fbfe5c76cdb",
      "metadata": {
        "colab": {
          "base_uri": "https://localhost:8080/"
        },
        "id": "97959fbfe5c76cdb",
        "outputId": "8c599067-8a2e-4d9a-de5c-a09c7a4da753"
      },
      "outputs": [
        {
          "name": "stdout",
          "output_type": "stream",
          "text": [
            "Top 5 features by LR: ['X22', 'X26', 'X27', 'X17', 'X29']\n"
          ]
        }
      ],
      "source": [
        "top_features = find_top_features(X_train, y_train)\n",
        "matched_X_train, matched_T_train, matched_y_train = matching(X_train, T_train, y_train, top_features=top_features)"
      ]
    },
    {
      "cell_type": "markdown",
      "id": "251facfd5d1b76cd",
      "metadata": {
        "id": "251facfd5d1b76cd"
      },
      "source": [
        "Show the Balancing Table on features X16, X17, X18, X19, X20 on the MATCHED training data"
      ]
    },
    {
      "cell_type": "code",
      "execution_count": 42,
      "id": "3992280919d49fe9",
      "metadata": {
        "colab": {
          "base_uri": "https://localhost:8080/"
        },
        "id": "3992280919d49fe9",
        "outputId": "a0eedab8-68ae-42cf-cfb4-ae0dc92de6aa"
      },
      "outputs": [
        {
          "name": "stdout",
          "output_type": "stream",
          "text": [
            "╒════════════════╤════╤═══════════╤════════════╤════════════╤════════════╤═════════════╕\n",
            "│                │    │ Missing   │ Overall    │ 0          │ 1          │ SMD (0,1)   │\n",
            "╞════════════════╪════╪═══════════╪════════════╪════════════╪════════════╪═════════════╡\n",
            "│ n              │    │           │ 1016       │ 508        │ 508        │             │\n",
            "├────────────────┼────┼───────────┼────────────┼────────────┼────────────┼─────────────┤\n",
            "│ X16, mean (SD) │    │ 0         │ -0.3 (1.0) │ -0.3 (1.0) │ -0.2 (1.0) │ 0.053       │\n",
            "├────────────────┼────┼───────────┼────────────┼────────────┼────────────┼─────────────┤\n",
            "│ X17, mean (SD) │    │ 0         │ 0.9 (1.0)  │ 0.9 (0.9)  │ 1.0 (1.0)  │ 0.046       │\n",
            "├────────────────┼────┼───────────┼────────────┼────────────┼────────────┼─────────────┤\n",
            "│ X18, mean (SD) │    │ 0         │ 0.4 (1.0)  │ 0.4 (1.0)  │ 0.5 (0.9)  │ 0.147       │\n",
            "├────────────────┼────┼───────────┼────────────┼────────────┼────────────┼─────────────┤\n",
            "│ X19, mean (SD) │    │ 0         │ 0.2 (1.0)  │ 0.1 (1.0)  │ 0.4 (1.0)  │ 0.270       │\n",
            "├────────────────┼────┼───────────┼────────────┼────────────┼────────────┼─────────────┤\n",
            "│ X20, mean (SD) │    │ 0         │ -0.6 (1.0) │ -0.7 (1.0) │ -0.6 (1.0) │ 0.126       │\n",
            "╘════════════════╧════╧═══════════╧════════════╧════════════╧════════════╧═════════════╛\n"
          ]
        }
      ],
      "source": [
        "table1 = TableOne(pd.concat([matched_X_train, matched_T_train], axis=1), columns=['X16', 'X17', 'X18', 'X19', 'X20'], groupby='T', nonnormal=[],\n",
        "                  pval=False, smd=True)\n",
        "print(table1.tabulate(tablefmt=\"fancy_grid\"))"
      ]
    },
    {
      "cell_type": "markdown",
      "id": "98e849d967a22f2e",
      "metadata": {
        "id": "98e849d967a22f2e"
      },
      "source": [
        "Check the overlap on the matched data"
      ]
    },
    {
      "cell_type": "code",
      "execution_count": 43,
      "id": "69e96c07e2936521",
      "metadata": {
        "colab": {
          "base_uri": "https://localhost:8080/",
          "height": 564
        },
        "id": "69e96c07e2936521",
        "outputId": "a79d765c-f148-4d95-d46b-7e3b9844f47c"
      },
      "outputs": [
        {
          "data": {
            "image/png": "[encoded data removed]",
            "text/plain": [
              "<Figure size 1000x600 with 1 Axes>"
            ]
          },
          "metadata": {},
          "output_type": "display_data"
        }
      ],
      "source": [
        "matched_lr_model = train_propensity_model(LogisticRegression(max_iter=1000), matched_X_train, matched_T_train)\n",
        "check_overlap(matched_lr_model, matched_X_train, matched_T_train)"
      ]
    },
    {
      "cell_type": "markdown",
      "id": "deb4299e7c192e9c",
      "metadata": {
        "id": "deb4299e7c192e9c"
      },
      "source": [
        "#### Q10. Did the balance improve after matching? Did the overlap improve after matching? Explain."
      ]
    },
    {
      "cell_type": "markdown",
      "id": "uPiYXA_fPGkr",
      "metadata": {
        "id": "uPiYXA_fPGkr"
      },
      "source": [
        "## Answer 10:\n",
        "After matching, we can see that the balance for 'X17' improved, with SMD now less than 0.1. This happened because 'X17' was included in the top features we gave to the matching algorithm. If we choose ['X16', 'X17', 'X18', 'X19', 'X20'] as the features for matching, then all of them will have SMD less than 0.1, as shown below.\n",
        "\n",
        "For overlap, there are still some areas where there are no treatment samples (around 0.1) and no control units (around 1). So, we have almost full overlap, but not completely. Matching only reduces the sample size, so if there was a probability with zero frequency before matching, it will still be zero after matching. This means the overlap does not really improve just by matching."
      ]
    },
    {
      "cell_type": "code",
      "execution_count": 44,
      "id": "afarChXFPHcU",
      "metadata": {
        "colab": {
          "base_uri": "https://localhost:8080/"
        },
        "id": "afarChXFPHcU",
        "outputId": "400200b2-a639-4c3f-df65-c39cda728b42"
      },
      "outputs": [
        {
          "name": "stdout",
          "output_type": "stream",
          "text": [
            "╒════════════════╤════╤═══════════╤════════════╤════════════╤════════════╤═════════════╕\n",
            "│                │    │ Missing   │ Overall    │ 0          │ 1          │ SMD (0,1)   │\n",
            "╞════════════════╪════╪═══════════╪════════════╪════════════╪════════════╪═════════════╡\n",
            "│ n              │    │           │ 1016       │ 508        │ 508        │             │\n",
            "├────────────────┼────┼───────────┼────────────┼────────────┼────────────┼─────────────┤\n",
            "│ X16, mean (SD) │    │ 0         │ -0.2 (1.0) │ -0.2 (1.0) │ -0.2 (1.0) │ -0.002      │\n",
            "├────────────────┼────┼───────────┼────────────┼────────────┼────────────┼─────────────┤\n",
            "│ X17, mean (SD) │    │ 0         │ 1.0 (1.0)  │ 0.9 (0.9)  │ 1.0 (1.0)  │ 0.031       │\n",
            "├────────────────┼────┼───────────┼────────────┼────────────┼────────────┼─────────────┤\n",
            "│ X18, mean (SD) │    │ 0         │ 0.5 (0.9)  │ 0.5 (0.9)  │ 0.5 (0.9)  │ 0.018       │\n",
            "├────────────────┼────┼───────────┼────────────┼────────────┼────────────┼─────────────┤\n",
            "│ X19, mean (SD) │    │ 0         │ 0.3 (1.0)  │ 0.3 (0.9)  │ 0.4 (1.0)  │ 0.031       │\n",
            "├────────────────┼────┼───────────┼────────────┼────────────┼────────────┼─────────────┤\n",
            "│ X20, mean (SD) │    │ 0         │ -0.6 (1.0) │ -0.6 (1.0) │ -0.6 (1.0) │ 0.027       │\n",
            "╘════════════════╧════╧═══════════╧════════════╧════════════╧════════════╧═════════════╛\n"
          ]
        }
      ],
      "source": [
        "distance_features = ['X16', 'X17', 'X18', 'X19', 'X20']\n",
        "matched_X_train, matched_T_train, matched_y_train = matching(X_train, T_train, y_train, top_features=distance_features)\n",
        "table1_1 = TableOne(pd.concat([matched_X_train, matched_T_train], axis=1), columns=['X16', 'X17', 'X18', 'X19', 'X20'], groupby='T', nonnormal=[],\n",
        "                  pval=False, smd=True)\n",
        "print(table1_1.tabulate(tablefmt=\"fancy_grid\"))"
      ]
    },
    {
      "cell_type": "code",
      "execution_count": 45,
      "id": "cca508b8e27b373b",
      "metadata": {
        "id": "cca508b8e27b373b"
      },
      "outputs": [],
      "source": [
        "def calculate_matching_att(T, y):\n",
        "    \"\"\"\n",
        "    Receive propensity model and X, returns ATT inferred on X\n",
        "\n",
        "    You must return or print the ATT estimation on X based on matching.\n",
        "    :param model:\n",
        "    :param X:\n",
        "    :return:\n",
        "    \"\"\"\n",
        "\n",
        "    treated_outcomes = y[T == 1]\n",
        "    control_outcomes = y[T == 0]\n",
        "    att = np.mean(treated_outcomes) - np.mean(control_outcomes)\n",
        "    return att"
      ]
    },
    {
      "cell_type": "markdown",
      "id": "5139954702e8f046",
      "metadata": {
        "id": "5139954702e8f046"
      },
      "source": [
        "Provide the point-estimate of the ate on the matched validation set"
      ]
    },
    {
      "cell_type": "code",
      "execution_count": 46,
      "id": "d1a306405f5fad6a",
      "metadata": {
        "colab": {
          "base_uri": "https://localhost:8080/"
        },
        "id": "d1a306405f5fad6a",
        "outputId": "f6800ebf-ebb0-4c1c-9c9d-1f77fea3ed51"
      },
      "outputs": [
        {
          "data": {
            "text/plain": [
              "np.float64(3.8071532149530025)"
            ]
          },
          "execution_count": 46,
          "metadata": {},
          "output_type": "execute_result"
        }
      ],
      "source": [
        "matched_X_val, matched_T_val, matched_y_val = matching(X_val, T_val, y_val)\n",
        "calculate_matching_att(matched_T_val, matched_y_val)"
      ]
    },
    {
      "cell_type": "code",
      "execution_count": 47,
      "id": "560c952fa389b01a",
      "metadata": {
        "id": "560c952fa389b01a"
      },
      "outputs": [],
      "source": [
        "def matching_confidence_intervals(matching_algorithm, X_train, T_train, y_train, X_val, T_val, y_val):\n",
        "    \"\"\"\n",
        "    Receives your matching algorithm for each intervention arm and returns 95% confidence intervals.\n",
        "    You do not need to use every parameter passed to this method and you can add additional parameters.\n",
        "\n",
        "    You must either print, visualize the confidence intervals or return them as a list.\n",
        "    :param model:\n",
        "    :param X_train:\n",
        "    :param T_train:\n",
        "    :param y_train:\n",
        "    :param X_val:\n",
        "    :param T_val:\n",
        "    :param y_val:\n",
        "    :return:\n",
        "    \"\"\"\n",
        "    n_bootstraps = 100\n",
        "    alpha = 0.05\n",
        "    ates = []\n",
        "    for _ in range(n_bootstraps):\n",
        "        # X_train_sample, T_train_sample, y_train_sample = resample(X_train, T_train, y_train)\n",
        "        X_val_sample, T_val_sample, y_val_sample = resample(X_val, T_val, y_val)\n",
        "        X_val_sample = X_val_sample.reset_index(drop=True)\n",
        "        T_val_sample = T_val_sample.reset_index(drop=True)\n",
        "        y_val_sample = y_val_sample.reset_index(drop=True)\n",
        "        # Now use positional indices throughout the matching algorithm\n",
        "        matched_X_val, matched_T_val, matched_y_val = matching_algorithm(X_val_sample, T_val_sample, y_val_sample)\n",
        "        ate = calculate_matching_att(matched_T_val, matched_y_val)\n",
        "        ates.append(ate)\n",
        "    lower = np.percentile(ates, 100 * alpha / 2)\n",
        "    upper = np.percentile(ates, 100 * (1 - alpha / 2))\n",
        "    return (lower, upper)"
      ]
    },
    {
      "cell_type": "code",
      "execution_count": 48,
      "id": "479b54bf2a4a61af",
      "metadata": {
        "colab": {
          "base_uri": "https://localhost:8080/"
        },
        "id": "479b54bf2a4a61af",
        "outputId": "709d417f-64b2-4318-8330-414b590158de"
      },
      "outputs": [
        {
          "name": "stdout",
          "output_type": "stream",
          "text": [
            "(np.float64(2.7349206512447566), np.float64(5.303407518432605))\n"
          ]
        }
      ],
      "source": [
        "matching_ci = matching_confidence_intervals(matching, X_train, T_train, y_train, X_val, T_val, y_val)\n",
        "print(matching_ci) # if you did not show above"
      ]
    },
    {
      "cell_type": "markdown",
      "id": "3f60313fcf253878",
      "metadata": {
        "id": "3f60313fcf253878"
      },
      "source": [
        "Q11. Let's imagine that each row in the data represents an employee.\n",
        "T represents if the employee has undertaken a training program. And Y is the amount of money (in thousands of dollars) that each person has cost or earned the company after going through the program. Would you recommend the program?\n",
        "Explain your decision by looking at the confidence intervals that you received from S-Learner, T-Learner, IPW and matching.\n",
        "Note that the ATT from matching is not the same as ATE for the others."
      ]
    },
    {
      "cell_type": "markdown",
      "id": "_jk06bx0PSRG",
      "metadata": {
        "id": "_jk06bx0PSRG"
      },
      "source": [
        "## Answer 11:\n",
        "Yes, we would recommend the program.\n",
        "\n",
        "Looking at the results, both the S-Learner and T-Learner methods produced confidence intervals that are entirely above zero (with the S-Learner lower bound around 0.9 and the T-Learner lower bound around 1.9). This suggests a positive and statistically significant effect of the training program on the company's earnings. Additionally, the T-Learner with linear regression achieved an almost perfect fit (very low RMSE and R² close to 1), which increases our confidence in these estimates.\n",
        "\n",
        "The IPW method is the only approach where the confidence interval includes zero, and it is also much wider than the others. This likely indicates higher variance and less precision, possibly due to extreme weights or limited overlap in propensity scores.\n",
        "\n",
        "The matching method estimates the ATT (not ATE), but its point estimate is also positive, further supporting the benefit of the program."
      ]
    }
  ],
  "metadata": {
    "colab": {
      "collapsed_sections": [
        "4a0e4137b412b091",
        "c0c6959f1eaac9ea",
        "ffd0676702ec14e4"
      ],
      "provenance": []
    },
    "kernelspec": {
      "display_name": "Python 3",
      "language": "python",
      "name": "python3"
    },
    "language_info": {
      "codemirror_mode": {
        "name": "ipython",
        "version": 2
      },
      "file_extension": ".py",
      "mimetype": "text/x-python",
      "name": "python",
      "nbconvert_exporter": "python",
      "pygments_lexer": "ipython2",
      "version": "2.7.6"
    }
  },
  "nbformat": 4,
  "nbformat_minor": 5
}
